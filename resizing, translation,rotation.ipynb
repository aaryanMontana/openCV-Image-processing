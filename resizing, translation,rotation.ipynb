{
 "cells": [
  {
   "cell_type": "code",
   "execution_count": 1,
   "metadata": {},
   "outputs": [
    {
     "name": "stdout",
     "output_type": "stream",
     "text": [
      "Height:  361\n",
      "Width:  950\n"
     ]
    }
   ],
   "source": [
    "import cv2\n",
    "import numpy as np\n",
    " \n",
    "img = cv2.imread(\"image1.jpg\")\n",
    "rows, cols, ch = img.shape\n",
    " \n",
    "print(\"Height: \", rows)\n",
    "print(\"Width: \", cols)\n",
    "# 400 pixel width and 600 pixel height\n",
    "#scaled_img = cv2.resize(img, (400,600))\n",
    "#other way of resizing ,if we give fx =1 and fy =1 then the scaled size is equal to orginal image\n",
    "scaled_img = cv2.resize(img, None, fx=1/2, fy=1*2)\n",
    " \n",
    "#warpAffine(src,Matrix,dsize,dst=NONE,flags = NONE,borderMode=None,borderValue=None)    \n",
    "matrix_t = np.float32([[1, 0, -100], [0, 1, -30]])\n",
    "translated_img = cv2.warpAffine(img, matrix_t, (cols, rows))\n",
    "#getRotationMatrix2D(centre,angle,scale) if scale = 1 ,original size,if 0.5 means half of the size\n",
    "matrix_r = cv2.getRotationMatrix2D((cols/2, rows/2), 90, 0.5)\n",
    "rotated_img = cv2.warpAffine(img, matrix_r, (cols, rows))\n",
    " \n",
    "cv2.imshow(\"Original image\", img)\n",
    "cv2.imshow(\"Scaled image\", scaled_img)\n",
    "cv2.imshow(\"Translated image\", translated_img)\n",
    "cv2.imshow(\"Rotated image\", rotated_img)\n",
    "cv2.waitKey(0)\n",
    "cv2.destroyAllWindows()"
   ]
  }
 ],
 "metadata": {
  "kernelspec": {
   "display_name": "Python 3",
   "language": "python",
   "name": "python3"
  },
  "language_info": {
   "codemirror_mode": {
    "name": "ipython",
    "version": 3
   },
   "file_extension": ".py",
   "mimetype": "text/x-python",
   "name": "python",
   "nbconvert_exporter": "python",
   "pygments_lexer": "ipython3",
   "version": "3.6.3"
  }
 },
 "nbformat": 4,
 "nbformat_minor": 2
}

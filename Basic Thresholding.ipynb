{
 "cells": [
  {
   "cell_type": "code",
   "execution_count": null,
   "metadata": {
    "collapsed": true
   },
   "outputs": [],
   "source": [
    "#Thresholding\n",
    "import numpy as np\n",
    "#read any image from ur disk \n",
    "img = cv2.imread(\"black_to_white.jpeg\", cv2.IMREAD_GRAYSCALE)\n",
    " \n",
    "#threshold(src,thresh,maxvalue,type,dst=NONE)   \n",
    "#so threshold will set the image with o to 128 as 0 and above 128 as white and if the thresh value is 10 then above 10 pixels become  255\n",
    "_, threshold_binary = cv2.threshold(img, 128, 255, cv2.THRESH_BINARY)\n",
    "_, threshold_binary_inv = cv2.threshold(img, 128, 255, cv2.THRESH_BINARY_INV)\n",
    "#in thresh trunc all the pixels above 128 will be made as 128\n",
    "_, threshold_trunc = cv2.threshold(img, 128, 255, cv2.THRESH_TRUNC)\n",
    "#here below 128 set to 0 and above are remained as same and if u use THRESH_TOZERO_INV then greater than 128 is set to 0\n",
    "_, threshold_to_zero = cv2.threshold(img, 12, 255, cv2.THRESH_TOZERO)\n",
    " \n",
    "cv2.imshow(\"Image\", img)\n",
    "cv2.imshow(\"th binary\", threshold_binary)\n",
    "cv2.imshow(\"th binary inv\", threshold_binary_inv)\n",
    "cv2.imshow(\"th trunc\", threshold_trunc)\n",
    "cv2.imshow(\"th to zero\", threshold_to_zero)\n",
    " \n",
    "cv2.waitKey(0)\n",
    "cv2.destroyAllWindows()"
   ]
  },
  {
   "cell_type": "code",
   "execution_count": 2,
   "metadata": {},
   "outputs": [],
   "source": [
    "import cv2\n",
    "#thresholding with trackbar on real image with adjusting correct thresh values\n",
    "import numpy as np\n",
    " \n",
    "def nothing(x):\n",
    "    pass\n",
    " \n",
    "img = cv2.imread(\"image1.jpg\", cv2.IMREAD_GRAYSCALE)\n",
    "cv2.namedWindow(\"Image\")\n",
    "cv2.createTrackbar(\"Threshold value\", \"Image\", 128, 255, nothing)\n",
    " \n",
    " \n",
    "while True:\n",
    "    value_threshold = cv2.getTrackbarPos(\"Threshold value\", \"Image\")\n",
    "    _, threshold_binary = cv2.threshold(img, value_threshold, 255, cv2.THRESH_BINARY)\n",
    "    _, threshold_binary_inv = cv2.threshold(img, value_threshold, 255, cv2.THRESH_BINARY_INV)\n",
    "    _, threshold_trunc = cv2.threshold(img, value_threshold, 255, cv2.THRESH_TRUNC)\n",
    "    _, threshold_to_zero = cv2.threshold(img, value_threshold, 255, cv2.THRESH_TOZERO)\n",
    "    _, threshold_to_zero_inv = cv2.threshold(img, value_threshold, 255, cv2.THRESH_TOZERO_INV)\n",
    " \n",
    " \n",
    "    cv2.imshow(\"Image\", img)\n",
    "    cv2.imshow(\"th binary\", threshold_binary)\n",
    "    cv2.imshow(\"th binary inv\", threshold_binary_inv)\n",
    "    cv2.imshow(\"th trunc\", threshold_trunc)\n",
    "    cv2.imshow(\"th to zero\", threshold_to_zero)\n",
    "    cv2.imshow(\"th to zero inv\", threshold_to_zero_inv)\n",
    " \n",
    "    key = cv2.waitKey(100)\n",
    "    if key == 27:\n",
    "        break\n",
    " \n",
    "cv2.destroyAllWindows()"
   ]
  },
  {
   "cell_type": "code",
   "execution_count": null,
   "metadata": {
    "collapsed": true
   },
   "outputs": [],
   "source": []
  }
 ],
 "metadata": {
  "kernelspec": {
   "display_name": "Python 3",
   "language": "python",
   "name": "python3"
  },
  "language_info": {
   "codemirror_mode": {
    "name": "ipython",
    "version": 3
   },
   "file_extension": ".py",
   "mimetype": "text/x-python",
   "name": "python",
   "nbconvert_exporter": "python",
   "pygments_lexer": "ipython3",
   "version": "3.6.3"
  }
 },
 "nbformat": 4,
 "nbformat_minor": 2
}

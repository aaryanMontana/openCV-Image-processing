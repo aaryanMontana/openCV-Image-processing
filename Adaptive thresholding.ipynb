{
 "cells": [
  {
   "cell_type": "code",
   "execution_count": null,
   "metadata": {},
   "outputs": [],
   "source": [
    "import cv2\n",
    "import numpy as np\n",
    " \n",
    "img = cv2.imread(\"book_page.jpg\")\n",
    " \n",
    "_, threshold = cv2.threshold(img, 155, 255, cv2.THRESH_BINARY)\n",
    " \n",
    "img_gray = cv2.cvtColor(img, cv2.COLOR_BGR2GRAY)\n",
    "#adaptive threshold works with different regions of images\n",
    "#adaptiveThreshold(src,maxVlue,adaptiveMethod,thresholdTypes,blockSize,c) block(size of region) must be always odd num,C values gives howmuch bright \n",
    "mean_c = cv2.adaptiveThreshold(img_gray, 255, cv2.ADAPTIVE_THRESH_MEAN_C, cv2.THRESH_BINARY, 15, 12)\n",
    "gaus = cv2.adaptiveThreshold(img_gray, 255, cv2.ADAPTIVE_THRESH_GAUSSIAN_C, cv2.THRESH_BINARY, 91, 12)\n",
    " \n",
    "cv2.imshow(\"Img\", img)\n",
    "cv2.imshow(\"Binary threshold\", threshold)\n",
    "cv2.imshow(\"Mean C\", mean_c)\n",
    "cv2.imshow(\"Gaussian\", gaus)\n",
    "cv2.waitKey(0)\n",
    "cv2.destroyAllWindows()"
   ]
  },
  {
   "cell_type": "code",
   "execution_count": null,
   "metadata": {
    "collapsed": true
   },
   "outputs": [],
   "source": []
  }
 ],
 "metadata": {
  "kernelspec": {
   "display_name": "Python 3",
   "language": "python",
   "name": "python3"
  },
  "language_info": {
   "codemirror_mode": {
    "name": "ipython",
    "version": 3
   },
   "file_extension": ".py",
   "mimetype": "text/x-python",
   "name": "python",
   "nbconvert_exporter": "python",
   "pygments_lexer": "ipython3",
   "version": "3.6.3"
  }
 },
 "nbformat": 4,
 "nbformat_minor": 2
}

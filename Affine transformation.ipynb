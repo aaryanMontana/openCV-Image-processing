{
 "cells": [
  {
   "cell_type": "code",
   "execution_count": null,
   "metadata": {
    "scrolled": true
   },
   "outputs": [],
   "source": [
    "import cv2\n",
    "import numpy as np\n",
    " \n",
    "img = cv2.imread(\"grid.jpg\")\n",
    "rows, cols, ch = img.shape\n",
    " \n",
    "cv2.circle(img, (83, 90), 5, (0, 0, 255), -1)\n",
    "cv2.circle(img, (447, 90), 5, (0, 0, 255), -1)\n",
    "cv2.circle(img, (83, 472), 5, (0, 0, 255), -1)\n",
    " \n",
    "pts1 = np.float32([[83, 90], [447, 90], [83, 472]])\n",
    "pts2 = np.float32([[0, 0], [447, 90], [150, 472]])\n",
    " \n",
    "matrix = cv2.getAffineTransform(pts1, pts2)\n",
    "result = cv2.warpAffine(img, matrix, (cols, rows))\n",
    " \n",
    "cv2.imshow(\"Image\", img)\n",
    "cv2.imshow(\"Affine transformation\", result)\n",
    "cv2.waitKey(0)\n",
    "cv2.destroyAllWindows()"
   ]
  },
  {
   "cell_type": "code",
   "execution_count": null,
   "metadata": {},
   "outputs": [],
   "source": []
  },
  {
   "cell_type": "code",
   "execution_count": null,
   "metadata": {
    "collapsed": true
   },
   "outputs": [],
   "source": []
  }
 ],
 "metadata": {
  "kernelspec": {
   "display_name": "Python 3",
   "language": "python",
   "name": "python3"
  },
  "language_info": {
   "codemirror_mode": {
    "name": "ipython",
    "version": 3
   },
   "file_extension": ".py",
   "mimetype": "text/x-python",
   "name": "python",
   "nbconvert_exporter": "python",
   "pygments_lexer": "ipython3",
   "version": "3.6.3"
  }
 },
 "nbformat": 4,
 "nbformat_minor": 2
}
